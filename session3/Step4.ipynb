{
 "cells": [
  {
   "cell_type": "markdown",
   "id": "409e11bb-68c7-42db-a202-981d4f24b2eb",
   "metadata": {},
   "source": [
    "# STEP 4: Model Evalution & Testing "
   ]
  },
  {
   "cell_type": "markdown",
   "id": "3eb82466-a79d-49c9-b101-6e33643a3242",
   "metadata": {},
   "source": [
    "#### Before you deploy the model to automatically fly the drone, it'll be better if you test it."
   ]
  },
  {
   "cell_type": "code",
   "execution_count": null,
   "id": "ccb00f3c-360e-4c5e-bc6a-2cda18450ab7",
   "metadata": {},
   "outputs": [],
   "source": [
    "from detecto import core, utils, visualize\n",
    "from detecto.visualize import show_labeled_image, plot_prediction_grid\n",
    "from torchvision import transforms\n",
    "import matplotlib.pyplot as plt\n",
    "import numpy as np\n",
    "import torch\n",
    "from pathlib import Path\n",
    "import logging\n",
    "logging.basicConfig(level=logging.CRITICAL)\n",
    "import warnings\n",
    "warnings.filterwarnings('ignore')\n",
    "\n",
    "classes_filepath = \"./resources/predefined_classes.txt\"\n",
    "\n",
    "with open(classes_filepath) as f:\n",
    "    classes_list = [line.rstrip() for line in f]\n",
    "\n",
    "save_custom_model_filepath =  Path(\"./resources/custom_model_weights.pth\")\n",
    "\n",
    "if save_custom_model_filepath.is_file():\n",
    "    model = core.Model(classes_list, model_name='fasterrcnn_mobilenet_v3_large_fpn')\n",
    "    model.get_internal_model().load_state_dict(torch.load(save_custom_model_filepath, map_location=model._device))\n",
    "    print('The model is loaded!')\n",
    "else:\n",
    "    print('ERROR: The model file does not exist! Are you sure you trained your model in Step 3?')"
   ]
  },
  {
   "cell_type": "markdown",
   "id": "0022b93a-c235-4b39-ac0a-63024d883829",
   "metadata": {},
   "source": [
    "### Test on the stationary drone's video camera (without flying)"
   ]
  },
  {
   "cell_type": "markdown",
   "id": "4ee23609-ef7f-4d88-b47d-924c6cec5c6c",
   "metadata": {},
   "source": [
    "#### Turn on the drone and point to the gate and other objects, observe the following\n",
    "- Does it see the gate all the time?\n",
    "- Are you satisfied with the result?\n",
    "- If not, which step should you repeat?\n",
    "- Would you trust this model in real-world?\n",
    "\n",
    "#### Most importantly, what is the \"Confidence Level\" when the model detects the objects correctly?"
   ]
  },
  {
   "cell_type": "code",
   "execution_count": null,
   "id": "a10c405f-89fe-4224-b70d-04ee42320255",
   "metadata": {},
   "outputs": [],
   "source": [
    "from resources.pygame_model_inference import FrontEnd\n",
    "import logging\n",
    "logging.basicConfig(level=logging.CRITICAL)\n",
    "import warnings\n",
    "warnings.filterwarnings('ignore')\n",
    "\n",
    "find_class = '' #<-- Change this: What object do you need to find (from the training objects)?\n",
    "drone_ip = '192.168.41.' #<--- change this to your team drone IP\n",
    "\n",
    "def main():\n",
    "    frontend = FrontEnd(drone_ip, model, find_class)\n",
    "    frontend.run()\n",
    "main()\n"
   ]
  },
  {
   "cell_type": "code",
   "execution_count": null,
   "id": "cba64716-3be0-45bd-bc70-089f5ef4a589",
   "metadata": {},
   "outputs": [],
   "source": []
  }
 ],
 "metadata": {
  "kernelspec": {
   "display_name": "Python 3 (ipykernel)",
   "language": "python",
   "name": "python3"
  },
  "language_info": {
   "codemirror_mode": {
    "name": "ipython",
    "version": 3
   },
   "file_extension": ".py",
   "mimetype": "text/x-python",
   "name": "python",
   "nbconvert_exporter": "python",
   "pygments_lexer": "ipython3",
   "version": "3.11.6"
  }
 },
 "nbformat": 4,
 "nbformat_minor": 5
}
