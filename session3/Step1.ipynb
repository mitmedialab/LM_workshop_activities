{
 "cells": [
  {
   "cell_type": "markdown",
   "id": "f819bdc2-3e06-440f-b0d2-0778b7031069",
   "metadata": {},
   "source": [
    "# STEP 1: Data Collection"
   ]
  },
  {
   "cell_type": "markdown",
   "id": "c3a08f05-75b2-444b-8aac-01de7bd22ee2",
   "metadata": {},
   "source": [
    "## Task 1: Use the drone to collect pictures of gates"
   ]
  },
  {
   "cell_type": "markdown",
   "id": "e929f07b-bee1-481c-a505-5328bee33142",
   "metadata": {
    "jp-MarkdownHeadingCollapsed": true
   },
   "source": [
    "### This is a mock-up activity. Present the object(s) you want to detect to the camera from different angles, keep collecting images in the process\n",
    "Use the space bar to save the images \n",
    "\n",
    "The original activity, you fly a drone to collect data"
   ]
  },
  {
   "cell_type": "markdown",
   "id": "2ae0afd1-b958-4ab9-97f5-cb678cd1f34c",
   "metadata": {},
   "source": [
    "### [Ignore the original activity instructions -- Kept here for reference] \n",
    "#### Manually fly the drone and go through the gate, keep collecting images in the process\n",
    "![keyboard](slides/drone_control_keyboard.png)"
   ]
  },
  {
   "cell_type": "code",
   "execution_count": 1,
   "id": "4ff08cb2-b0fc-4eca-a2aa-87139d51f266",
   "metadata": {
    "tags": []
   },
   "outputs": [],
   "source": [
    "# !pip install pygame"
   ]
  },
  {
   "cell_type": "code",
   "execution_count": null,
   "id": "a6f8222d-5f3a-4662-808d-2426218a5190",
   "metadata": {
    "tags": []
   },
   "outputs": [],
   "source": [
    "from resources.manual_pic import FrontEnd\n",
    "\n",
    "import logging\n",
    "import warnings\n",
    "\n",
    "logging.basicConfig(level=logging.CRITICAL)\n",
    "warnings.filterwarnings('ignore')\n",
    "\n",
    "def main():\n",
    "    frontend = FrontEnd('192.168.41.') #<--- change this to your team drone IP [Ignore for this mock-up]\n",
    "    frontend.run()\n",
    "main()\n"
   ]
  },
  {
   "cell_type": "code",
   "execution_count": null,
   "id": "a6f3e138-3f18-4c79-b583-70124bc53f4d",
   "metadata": {},
   "outputs": [],
   "source": []
  }
 ],
 "metadata": {
  "kernelspec": {
   "display_name": "Python 3 (ipykernel)",
   "language": "python",
   "name": "python3"
  },
  "language_info": {
   "codemirror_mode": {
    "name": "ipython",
    "version": 3
   },
   "file_extension": ".py",
   "mimetype": "text/x-python",
   "name": "python",
   "nbconvert_exporter": "python",
   "pygments_lexer": "ipython3",
   "version": "3.11.6"
  }
 },
 "nbformat": 4,
 "nbformat_minor": 5
}
