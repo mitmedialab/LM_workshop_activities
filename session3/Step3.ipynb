{
 "cells": [
  {
   "cell_type": "markdown",
   "id": "237ff803-b471-4a5a-ab95-ff10388925d6",
   "metadata": {},
   "source": [
    "# STEP 3: Model Training"
   ]
  },
  {
   "cell_type": "markdown",
   "id": "c0e60089-9ce7-440d-a383-c8dfd5178fff",
   "metadata": {
    "tags": []
   },
   "source": [
    "### Task 1: Preprocessing your dataset \n",
    "Here we divide the dataset to training and validation to find tune the model"
   ]
  },
  {
   "cell_type": "code",
   "execution_count": null,
   "id": "cb8788eb-9ac7-45b6-8570-6fb54ead710a",
   "metadata": {},
   "outputs": [],
   "source": [
    "!pip install detecto"
   ]
  },
  {
   "cell_type": "code",
   "execution_count": null,
   "id": "9b855601-0441-4b19-9da0-c96f443148bd",
   "metadata": {},
   "outputs": [],
   "source": [
    "from detecto import core, utils\n",
    "from torchvision import transforms\n",
    "import matplotlib.pyplot as plt\n",
    "from pathlib import Path\n",
    "\n",
    "import logging\n",
    "import warnings\n",
    "\n",
    "logging.basicConfig(level=logging.CRITICAL)\n",
    "warnings.filterwarnings('ignore')\n",
    "\n",
    "images_path = \"./images\"\n",
    "training_filepath =  \"./resources/train_labels.csv\"\n",
    "validation_filepath = \"./resources/val_labels.csv\"\n",
    "classes_filepath =  \"./resources/predefined_classes.txt\"\n",
    "\n",
    "with open(classes_filepath) as f:\n",
    "    classes_list = [line.rstrip() for line in f]\n",
    "        \n",
    "# Convert XML files to CSV format\n",
    "utils.xml_to_csv(str(images_path), str(training_filepath))\n",
    "utils.xml_to_csv(str(images_path), str(validation_filepath))\n",
    "\n",
    "# Define custom transforms to apply to your dataset\n",
    "custom_transforms = transforms.Compose([\n",
    "    transforms.ToPILImage(),\n",
    "    transforms.Resize(800),\n",
    "    transforms.ColorJitter(saturation=0.3),\n",
    "    transforms.ToTensor(),\n",
    "    utils.normalize_transform(),\n",
    "])\n",
    "\n",
    "# Pass in a CSV file instead of XML files for faster Dataset initialization speeds\n",
    "dataset = core.Dataset(training_filepath, images_path, transform=custom_transforms)\n",
    "print('Number of samples in training dataset = {}.'.format(len(dataset)))\n",
    "\n",
    "val_dataset = core.Dataset(validation_filepath, images_path)  # Validation dataset for training\n",
    "print('Number of samples in validation dataset = {}.'.format(len(val_dataset)))\n",
    "\n",
    "# Create your own DataLoader with custom options\n",
    "if len(dataset) > 0:\n",
    "    loader = core.DataLoader(dataset, batch_size=2, shuffle=True) \n",
    "\n",
    "    print([dataset[i][1]['labels'] for i in range(len(dataset))])\n",
    "else:\n",
    "    print(\"ERROR: Your Dataset is empty! Are you sure you did step 2? Did you save your labelled pictures?\")"
   ]
  },
  {
   "cell_type": "code",
   "execution_count": null,
   "id": "8d15392e-1919-476c-9402-f2ca35becadc",
   "metadata": {},
   "outputs": [],
   "source": [
    "# for i in range(len(dataset)):\n",
    "#     print(i)\n",
    "#     if i in [15,36,93,237,247,282]:\n",
    "#         continue\n",
    "#     print(dataset[i][1])"
   ]
  },
  {
   "cell_type": "markdown",
   "id": "58ef3bf6-d3f9-40f3-b57d-7746b447cf02",
   "metadata": {},
   "source": [
    "### Task 2: Training Session. Decide how many times you want to re-train the model\n",
    "The number of training sessions is called \"epochs\". The more epochs, the longer time the model takes, but the higher accuracy it might reach. "
   ]
  },
  {
   "cell_type": "code",
   "execution_count": null,
   "id": "fb130b4d-6f5e-4346-86a2-fe748f641fe0",
   "metadata": {},
   "outputs": [],
   "source": [
    "num_epochs = int(input('The number of models training sessions:'))\n",
    "\n",
    "if num_epochs < 1:\n",
    "    print('The number of epochs has to be more than 1.') \n",
    "    num_epochs = 1"
   ]
  },
  {
   "cell_type": "code",
   "execution_count": null,
   "id": "c13b4909-ef7c-4eb2-95b7-6745224088c8",
   "metadata": {},
   "outputs": [],
   "source": [
    "import logging\n",
    "import warnings\n",
    "\n",
    "logging.basicConfig(level=logging.CRITICAL)\n",
    "warnings.filterwarnings('ignore')\n",
    "\n",
    "model = core.Model(classes_list, model_name='fasterrcnn_mobilenet_v3_large_fpn')\n",
    "losses = model.fit(loader, val_dataset, epochs=num_epochs, learning_rate=0.001, verbose=True)\n",
    "\n",
    "save_custom_model_filepath = \"./resources/custom_model_weights.pth\"\n",
    "model.save(save_custom_model_filepath)  # Save model to a file\n",
    "print('The model is saved, you can move to next step!')"
   ]
  },
  {
   "cell_type": "code",
   "execution_count": null,
   "id": "63b7c6bc-cdac-4c4f-bf80-1bda9044d9c0",
   "metadata": {},
   "outputs": [],
   "source": []
  }
 ],
 "metadata": {
  "kernelspec": {
   "display_name": "Python 3 (ipykernel)",
   "language": "python",
   "name": "python3"
  },
  "language_info": {
   "codemirror_mode": {
    "name": "ipython",
    "version": 3
   },
   "file_extension": ".py",
   "mimetype": "text/x-python",
   "name": "python",
   "nbconvert_exporter": "python",
   "pygments_lexer": "ipython3",
   "version": "3.11.6"
  }
 },
 "nbformat": 4,
 "nbformat_minor": 5
}
