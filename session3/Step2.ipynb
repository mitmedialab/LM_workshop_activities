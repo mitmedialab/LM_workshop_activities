{
 "cells": [
  {
   "cell_type": "markdown",
   "id": "49178d2d-c4f2-4bf1-b469-583ea0adc18f",
   "metadata": {},
   "source": [
    "# STEP 2: Data Labelling"
   ]
  },
  {
   "cell_type": "markdown",
   "id": "5ff9180c-1cb1-406f-87ff-5c68df60b518",
   "metadata": {},
   "source": [
    "### Task 1: Decide what objects do you want to train the AI to recognize\n",
    "Fill the list (with at least one object name), when you are done just enter 'exit' or empty text."
   ]
  },
  {
   "cell_type": "code",
   "execution_count": null,
   "id": "c7427939-9bbc-42f0-9d61-e496fca3e316",
   "metadata": {},
   "outputs": [],
   "source": [
    "classes = []\n",
    "text = 'none'\n",
    "while text.lower() not in ('', 'exit'):\n",
    "    text = input('Name of object AI will train on:')\n",
    "    if text.lower() not in ('', 'exit'):\n",
    "        classes.append(text.lower())\n",
    "\n",
    "print('')\n",
    "print('### The list contain the following:')\n",
    "print(classes)\n",
    "print('')\n",
    "print('if you want to change it, run this cell again!')"
   ]
  },
  {
   "cell_type": "code",
   "execution_count": null,
   "id": "c3043d59-79e3-45d4-8e55-f2c6c1ae7436",
   "metadata": {},
   "outputs": [],
   "source": [
    "#save them in a file\n",
    "classes_filepath =  \"./resources/predefined_classes.txt\"\n",
    "\n",
    "with open(classes_filepath, 'w') as fp:\n",
    "    for item in classes:\n",
    "        fp.write(\"%s\\n\" % item)"
   ]
  },
  {
   "cell_type": "markdown",
   "id": "1d3940b4-07e8-4a6a-85ae-09d6aaba2f3f",
   "metadata": {
    "tags": []
   },
   "source": [
    "### Task 2: Label the objects with bounding boxes in each image\n",
    "Use the software to label each image\n",
    "![labelImg](slides/pult_v3.2.gif)"
   ]
  },
  {
   "cell_type": "code",
   "execution_count": null,
   "id": "9539ce1d-9b10-48b3-92bb-6c45ef32b149",
   "metadata": {},
   "outputs": [],
   "source": [
    "import logging\n",
    "import warnings\n",
    "\n",
    "logging.basicConfig(level=logging.CRITICAL)\n",
    "warnings.filterwarnings('ignore')\n",
    "\n",
    "from pathlib import Path\n",
    "images_path = './images'\n",
    "!labelImg {images_path} {classes_filepath}"
   ]
  },
  {
   "cell_type": "code",
   "execution_count": null,
   "id": "badf5e84-2559-499d-a30e-1a0174b42bb7",
   "metadata": {},
   "outputs": [],
   "source": []
  }
 ],
 "metadata": {
  "kernelspec": {
   "display_name": "Python 3 (ipykernel)",
   "language": "python",
   "name": "python3"
  },
  "language_info": {
   "codemirror_mode": {
    "name": "ipython",
    "version": 3
   },
   "file_extension": ".py",
   "mimetype": "text/x-python",
   "name": "python",
   "nbconvert_exporter": "python",
   "pygments_lexer": "ipython3",
   "version": "3.11.6"
  }
 },
 "nbformat": 4,
 "nbformat_minor": 5
}
