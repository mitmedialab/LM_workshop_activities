{
 "cells": [
  {
   "cell_type": "markdown",
   "id": "50a56c16-30a7-4041-a27c-77b643359c9c",
   "metadata": {},
   "source": [
    "# STEP 5: Deployment and Policy\n",
    "#### You are ready to deploy, select the target object and at what confidence level.\n",
    "The confidence level filters out \"noise\", which would reduce the misclassifications and make sure your drone only goes to the class you want\n",
    "- Use the confidence level you observed in Step 4"
   ]
  },
  {
   "cell_type": "code",
   "execution_count": null,
   "id": "dec556b9-7516-40e0-ae43-0c841022f26d",
   "metadata": {},
   "outputs": [],
   "source": [
    "find_class = '' #<------ Change this: What object do you need to find (from the training objects)?\n",
    "confidence_level = 0.5 #<------ Change this: What is the best confidence level for what you need to find based on Step 4 \n",
    "drone_ip = '192.168.41.' #<--- change this to your team drone IP\n",
    "\n",
    "import logging\n",
    "import warnings\n",
    "\n",
    "logging.basicConfig(level=logging.CRITICAL)\n",
    "warnings.filterwarnings('ignore')\n",
    "\n",
    "from resources.deploy import FrontEnd\n",
    "\n",
    "class_file = 'predefined_classes.txt'\n",
    "model_file = 'custom_model_weights.pth'\n",
    "def main():\n",
    "    frontend = FrontEnd(drone_ip, find_class, confidence_level, class_file, model_file)\n",
    "    frontend.run()\n",
    "main()"
   ]
  }
 ],
 "metadata": {
  "kernelspec": {
   "display_name": "Python 3 (ipykernel)",
   "language": "python",
   "name": "python3"
  },
  "language_info": {
   "codemirror_mode": {
    "name": "ipython",
    "version": 3
   },
   "file_extension": ".py",
   "mimetype": "text/x-python",
   "name": "python",
   "nbconvert_exporter": "python",
   "pygments_lexer": "ipython3",
   "version": "3.11.6"
  }
 },
 "nbformat": 4,
 "nbformat_minor": 5
}
